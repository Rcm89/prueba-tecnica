{
 "cells": [
  {
   "cell_type": "code",
   "execution_count": 2,
   "metadata": {},
   "outputs": [
    {
     "name": "stdout",
     "output_type": "stream",
     "text": [
      "The autoreload extension is already loaded. To reload it, use:\n",
      "  %reload_ext autoreload\n"
     ]
    },
    {
     "data": {
      "text/plain": [
       "True"
      ]
     },
     "execution_count": 2,
     "metadata": {},
     "output_type": "execute_result"
    }
   ],
   "source": [
    "%load_ext autoreload\n",
    "%autoreload 2\n",
    "import pandas as pd\n",
    "import numpy as np\n",
    "import requests\n",
    "from tqdm import tqdm\n",
    "from time import sleep\n",
    "import os\n",
    "import dotenv\n",
    "dotenv.load_dotenv()"
   ]
  },
  {
   "cell_type": "code",
   "execution_count": 3,
   "metadata": {},
   "outputs": [],
   "source": [
    "api_key = \"f0aa977acemsh42d7af0bca32ac5p147ffejsn74e30ab678c4\"\n",
    "api_host = \"moviesdatabase.p.rapidapi.com\""
   ]
  },
  {
   "cell_type": "markdown",
   "metadata": {},
   "source": []
  },
  {
   "cell_type": "code",
   "execution_count": 4,
   "metadata": {},
   "outputs": [],
   "source": [
    "lista_tipos=[\"movie\",\"short\"]\n",
    "lista_paginas=[\"1\",\"2\"]\n",
    "lista_generos=['Drama', 'Comedy', 'Action', 'Fantasy', 'Horror', 'Mystery', 'Romance', 'Thriller']\n",
    "lista_anios = [i for i in range(1990,2025)]\n",
    "\n"
   ]
  },
  {
   "cell_type": "code",
   "execution_count": 5,
   "metadata": {},
   "outputs": [],
   "source": [
    "def get_registers(movie, genero):\n",
    "    movie_type = movie['titleType']['id']\n",
    "    movie_name = movie['titleText']['text']\n",
    "\n",
    "    movie_year = 0\n",
    "    try:\n",
    "        movie_year = movie['releaseDate']['year']\n",
    "    except:\n",
    "        movie_year = 0\n",
    "\n",
    "    movie_month = 0\n",
    "    try:\n",
    "        movie_month = movie['releaseDate']['month']\n",
    "    except:\n",
    "        movie_month = 0\n",
    "\n",
    "    movie_year_month = f\"{movie_year}-{movie_month}\"\n",
    "\n",
    "    movie_id = movie['id']\n",
    "\n",
    "    return (movie_type, movie_name, movie_year_month, movie_id, genero)"
   ]
  },
  {
   "cell_type": "code",
   "execution_count": 13,
   "metadata": {},
   "outputs": [],
   "source": [
    "def get_all_registers(api_key, api_host, genres_, tipes_, years_range_):\n",
    "    all_registers = []\n",
    "\n",
    "    url = \"https://moviesdatabase.p.rapidapi.com/titles\"\n",
    "\n",
    "    headers = {\n",
    "        \"x-rapidapi-key\": api_key,\n",
    "        \"x-rapidapi-host\": api_host\n",
    "    }\n",
    "\n",
    "    for tipe in tqdm(tipes_):\n",
    "        for genre in genres_:\n",
    "            for year in years_range_:\n",
    "\n",
    "                querystring = {\"genre\":genre,\"titleType\":tipe,\"year\":year,\"sort\":\"year.incr\",\"endYear\":\"2024\",\"limit\":\"50\"}\n",
    "\n",
    "                response = requests.get(url, headers=headers, params=querystring).json()\n",
    "    \n",
    "                results = response['results']\n",
    "    \n",
    "                all_registers.append(list(map(lambda result: get_registers(result, genre), results)))\n",
    "    \n",
    "\n",
    "    return all_registers"
   ]
  },
  {
   "cell_type": "code",
   "execution_count": 14,
   "metadata": {},
   "outputs": [
    {
     "name": "stderr",
     "output_type": "stream",
     "text": [
      "100%|██████████| 2/2 [03:04<00:00, 92.24s/it]\n"
     ]
    }
   ],
   "source": [
    "lista_datos = get_all_registers(api_key, api_host, lista_generos, lista_tipos, lista_anios)"
   ]
  },
  {
   "cell_type": "markdown",
   "metadata": {},
   "source": [
    "Nuestra lista queremos que sea una lisa de tuplas"
   ]
  },
  {
   "cell_type": "code",
   "execution_count": 15,
   "metadata": {},
   "outputs": [],
   "source": [
    "lista_tuplas_datos = [item for row in lista_datos for item in row]"
   ]
  },
  {
   "cell_type": "code",
   "execution_count": 17,
   "metadata": {},
   "outputs": [
    {
     "data": {
      "text/plain": [
       "[('movie', \"S. Lubin's Passion Play\", '1903-1', 'tt11166772', 'Drama'),\n",
       " ('movie', 'The Story of the Kelly Gang', '1906-12', 'tt0000574', 'Drama'),\n",
       " ('movie', 'Robbery Under Arms', '1907-11', 'tt0000615', 'Drama'),\n",
       " ('movie', \"L'enfant prodigue\", '1907-6', 'tt0000591', 'Drama')]"
      ]
     },
     "execution_count": 17,
     "metadata": {},
     "output_type": "execute_result"
    }
   ],
   "source": [
    "lista_tuplas_datos[:4]"
   ]
  },
  {
   "cell_type": "code",
   "execution_count": 16,
   "metadata": {},
   "outputs": [
    {
     "data": {
      "text/plain": [
       "28000"
      ]
     },
     "execution_count": 16,
     "metadata": {},
     "output_type": "execute_result"
    }
   ],
   "source": [
    "len(lista_tuplas_datos)"
   ]
  },
  {
   "cell_type": "code",
   "execution_count": 18,
   "metadata": {},
   "outputs": [
    {
     "data": {
      "text/html": [
       "<div>\n",
       "<style scoped>\n",
       "    .dataframe tbody tr th:only-of-type {\n",
       "        vertical-align: middle;\n",
       "    }\n",
       "\n",
       "    .dataframe tbody tr th {\n",
       "        vertical-align: top;\n",
       "    }\n",
       "\n",
       "    .dataframe thead th {\n",
       "        text-align: right;\n",
       "    }\n",
       "</style>\n",
       "<table border=\"1\" class=\"dataframe\">\n",
       "  <thead>\n",
       "    <tr style=\"text-align: right;\">\n",
       "      <th></th>\n",
       "      <th>tipo</th>\n",
       "      <th>titulo</th>\n",
       "      <th>fecha</th>\n",
       "      <th>id</th>\n",
       "      <th>genero</th>\n",
       "    </tr>\n",
       "  </thead>\n",
       "  <tbody>\n",
       "    <tr>\n",
       "      <th>0</th>\n",
       "      <td>movie</td>\n",
       "      <td>S. Lubin's Passion Play</td>\n",
       "      <td>1903-1</td>\n",
       "      <td>tt11166772</td>\n",
       "      <td>Drama</td>\n",
       "    </tr>\n",
       "    <tr>\n",
       "      <th>1</th>\n",
       "      <td>movie</td>\n",
       "      <td>The Story of the Kelly Gang</td>\n",
       "      <td>1906-12</td>\n",
       "      <td>tt0000574</td>\n",
       "      <td>Drama</td>\n",
       "    </tr>\n",
       "    <tr>\n",
       "      <th>2</th>\n",
       "      <td>movie</td>\n",
       "      <td>Robbery Under Arms</td>\n",
       "      <td>1907-11</td>\n",
       "      <td>tt0000615</td>\n",
       "      <td>Drama</td>\n",
       "    </tr>\n",
       "    <tr>\n",
       "      <th>3</th>\n",
       "      <td>movie</td>\n",
       "      <td>L'enfant prodigue</td>\n",
       "      <td>1907-6</td>\n",
       "      <td>tt0000591</td>\n",
       "      <td>Drama</td>\n",
       "    </tr>\n",
       "    <tr>\n",
       "      <th>4</th>\n",
       "      <td>movie</td>\n",
       "      <td>Violante</td>\n",
       "      <td>0-0</td>\n",
       "      <td>tt0176294</td>\n",
       "      <td>Drama</td>\n",
       "    </tr>\n",
       "  </tbody>\n",
       "</table>\n",
       "</div>"
      ],
      "text/plain": [
       "    tipo                       titulo    fecha          id genero\n",
       "0  movie      S. Lubin's Passion Play   1903-1  tt11166772  Drama\n",
       "1  movie  The Story of the Kelly Gang  1906-12   tt0000574  Drama\n",
       "2  movie           Robbery Under Arms  1907-11   tt0000615  Drama\n",
       "3  movie            L'enfant prodigue   1907-6   tt0000591  Drama\n",
       "4  movie                     Violante      0-0   tt0176294  Drama"
      ]
     },
     "execution_count": 18,
     "metadata": {},
     "output_type": "execute_result"
    }
   ],
   "source": [
    "df_datos = pd.DataFrame(lista_tuplas_datos, columns=[\"tipo\", \"titulo\", \"fecha\", \"id\", \"genero\"])\n",
    "df_datos.head()"
   ]
  },
  {
   "cell_type": "code",
   "execution_count": 21,
   "metadata": {},
   "outputs": [],
   "source": [
    "df_datos.to_csv(\"datos_api.csv\", index=False)"
   ]
  }
 ],
 "metadata": {
  "kernelspec": {
   "display_name": "Python 3",
   "language": "python",
   "name": "python3"
  },
  "language_info": {
   "codemirror_mode": {
    "name": "ipython",
    "version": 3
   },
   "file_extension": ".py",
   "mimetype": "text/x-python",
   "name": "python",
   "nbconvert_exporter": "python",
   "pygments_lexer": "ipython3",
   "version": "3.12.6"
  }
 },
 "nbformat": 4,
 "nbformat_minor": 2
}
