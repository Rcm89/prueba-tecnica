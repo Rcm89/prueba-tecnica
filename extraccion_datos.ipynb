{
 "cells": [
  {
   "cell_type": "code",
   "execution_count": 2,
   "metadata": {},
   "outputs": [
    {
     "name": "stdout",
     "output_type": "stream",
     "text": [
      "The autoreload extension is already loaded. To reload it, use:\n",
      "  %reload_ext autoreload\n"
     ]
    },
    {
     "data": {
      "text/plain": [
       "True"
      ]
     },
     "execution_count": 2,
     "metadata": {},
     "output_type": "execute_result"
    }
   ],
   "source": [
    "%load_ext autoreload\n",
    "%autoreload 2\n",
    "import pandas as pd\n",
    "import numpy as np\n",
    "import requests\n",
    "from tqdm import tqdm\n",
    "from time import sleep\n",
    "import os\n",
    "import dotenv\n",
    "dotenv.load_dotenv()"
   ]
  },
  {
   "cell_type": "code",
   "execution_count": null,
   "metadata": {},
   "outputs": [],
   "source": [
    "params = {\n",
    "    \"startYear\": \"1990\",\n",
    "    \"titleType\": \"movie,short\",\n",
    "    \"genres\": \"Drama,Comedy,Action,Fantasy,Horror,Mystery,Romance,Thriller\"\n",
    "}"
   ]
  },
  {
   "cell_type": "code",
   "execution_count": 36,
   "metadata": {},
   "outputs": [
    {
     "name": "stdout",
     "output_type": "stream",
     "text": [
      "{'page': '5', 'next': '/titles?titleType=movie&genre=Drama&page=6&limit=50&startYear=1990', 'entries': 50, 'results': [{'_id': '67439ef87a1326dd9697b976', 'id': 'tt34423370', 'primaryImage': {'id': 'rm1464834562', 'width': 1414, 'height': 2000, 'url': 'https://m.media-amazon.com/images/M/MV5BMjA4NGZkZDYtZmI2NS00MjFkLTk0MDUtNmYxYWMxYmUyZGZmXkEyXkFqcGc@._V1_.jpg', 'caption': {'plainText': 'Year Round Living (2025)', '__typename': 'Markdown'}, '__typename': 'Image'}, 'titleType': {'displayableProperty': {'value': {'plainText': '', '__typename': 'Markdown'}, '__typename': 'DisplayableTitleTypeProperty'}, 'text': 'Movie', 'id': 'movie', 'isSeries': False, 'isEpisode': False, 'categories': [{'value': 'movie', '__typename': 'TitleTypeCategory'}], 'canHaveEpisodes': False, '__typename': 'TitleType'}, 'titleText': {'text': 'Year Round Living', '__typename': 'TitleText'}, 'originalTitleText': {'text': 'Year Round Living', '__typename': 'TitleText'}, 'releaseYear': {'year': 2025, 'endYear': None, '__typename': 'YearRange'}, 'releaseDate': {'day': 2, 'month': 5, 'year': 2025, '__typename': 'ReleaseDate'}}, {'_id': '67439f5c7a1326dd9697bcb6', 'id': 'tt34428090', 'primaryImage': {'id': 'rm4062274561', 'width': 2500, 'height': 3539, 'url': 'https://m.media-amazon.com/images/M/MV5BZTM5MTZiMjgtOGY2Yi00MzUxLTk0M2ItYTJhODdjOGU1YjVjXkEyXkFqcGc@._V1_.jpg', 'caption': {'plainText': 'Hotii de Subiecte (2025)', '__typename': 'Markdown'}, '__typename': 'Image'}, 'titleType': {'displayableProperty': {'value': {'plainText': '', '__typename': 'Markdown'}, '__typename': 'DisplayableTitleTypeProperty'}, 'text': 'Movie', 'id': 'movie', 'isSeries': False, 'isEpisode': False, 'categories': [{'value': 'movie', '__typename': 'TitleTypeCategory'}], 'canHaveEpisodes': False, '__typename': 'TitleType'}, 'titleText': {'text': 'Hotii de Subiecte', '__typename': 'TitleText'}, 'originalTitleText': {'text': 'Hotii de Subiecte', '__typename': 'TitleText'}, 'releaseYear': {'year': 2025, 'endYear': None, '__typename': 'YearRange'}, 'releaseDate': {'day': 28, 'month': 3, 'year': 2025, '__typename': 'ReleaseDate'}}, {'_id': '67439fa47a1326dd9697befc', 'id': 'tt34434461', 'primaryImage': None, 'titleType': {'displayableProperty': {'value': {'plainText': '', '__typename': 'Markdown'}, '__typename': 'DisplayableTitleTypeProperty'}, 'text': 'Movie', 'id': 'movie', 'isSeries': False, 'isEpisode': False, 'categories': [{'value': 'movie', '__typename': 'TitleTypeCategory'}], 'canHaveEpisodes': False, '__typename': 'TitleType'}, 'titleText': {'text': 'Dímelo bajito', '__typename': 'TitleText'}, 'originalTitleText': {'text': 'Dímelo bajito', '__typename': 'TitleText'}, 'releaseYear': {'year': 2025, 'endYear': None, '__typename': 'YearRange'}, 'releaseDate': {'day': None, 'month': None, 'year': 2025, '__typename': 'ReleaseDate'}}, {'_id': '6743a047d0e20b007197c4ba', 'id': 'tt34442437', 'primaryImage': {'id': 'rm101409793', 'width': 1129, 'height': 1600, 'url': 'https://m.media-amazon.com/images/M/MV5BM2Y2ZmNjOGQtZWU4NC00OTE1LTgxNTAtMTI3ZWFkYWEwYmNjXkEyXkFqcGc@._V1_.jpg', 'caption': {'plainText': 'Thalli Manasu (2025)', '__typename': 'Markdown'}, '__typename': 'Image'}, 'titleType': {'displayableProperty': {'value': {'plainText': '', '__typename': 'Markdown'}, '__typename': 'DisplayableTitleTypeProperty'}, 'text': 'Movie', 'id': 'movie', 'isSeries': False, 'isEpisode': False, 'categories': [{'value': 'movie', '__typename': 'TitleTypeCategory'}], 'canHaveEpisodes': False, '__typename': 'TitleType'}, 'titleText': {'text': 'Thalli Manasu', '__typename': 'TitleText'}, 'originalTitleText': {'text': 'Thalli Manasu', '__typename': 'TitleText'}, 'releaseYear': {'year': 2025, 'endYear': None, '__typename': 'YearRange'}, 'releaseDate': {'day': 22, 'month': 11, 'year': 2025, '__typename': 'ReleaseDate'}}, {'_id': '6743a17bd0e20b007197ced4', 'id': 'tt34463005', 'primaryImage': {'id': 'rm3106366721', 'width': 1587, 'height': 2245, 'url': 'https://m.media-amazon.com/images/M/MV5BZGU0YjA1OTEtYjhmNy00NjM5LTg1NjEtNjA5ZTUzYjg5NzMyXkEyXkFqcGc@._V1_.jpg', 'caption': {'plainText': 'Ryan Sutherland, Daria Tazbash, Steve Kasan, Ian Walsh, and Mark Anthony Ramitt in Four Singles (2025)', '__typename': 'Markdown'}, '__typename': 'Image'}, 'titleType': {'displayableProperty': {'value': {'plainText': '', '__typename': 'Markdown'}, '__typename': 'DisplayableTitleTypeProperty'}, 'text': 'Movie', 'id': 'movie', 'isSeries': False, 'isEpisode': False, 'categories': [{'value': 'movie', '__typename': 'TitleTypeCategory'}], 'canHaveEpisodes': False, '__typename': 'TitleType'}, 'titleText': {'text': 'Four Singles', '__typename': 'TitleText'}, 'originalTitleText': {'text': 'Four Singles', '__typename': 'TitleText'}, 'releaseYear': {'year': 2025, 'endYear': None, '__typename': 'YearRange'}, 'releaseDate': {'day': 1, 'month': 1, 'year': 2025, '__typename': 'ReleaseDate'}}, {'_id': '6743a17e7a1326dd9697ce72', 'id': 'tt34463310', 'primaryImage': {'id': 'rm786457857', 'width': 2048, 'height': 2731, 'url': 'https://m.media-amazon.com/images/M/MV5BNzg5OTJkNWMtZjgzZi00MDcxLWJjYjgtMWZlNDk5ZDM1MTE5XkEyXkFqcGc@._V1_.jpg', 'caption': {'plainText': 'Detective Chinatown 1900 (2025)', '__typename': 'Markdown'}, '__typename': 'Image'}, 'titleType': {'displayableProperty': {'value': {'plainText': '', '__typename': 'Markdown'}, '__typename': 'DisplayableTitleTypeProperty'}, 'text': 'Movie', 'id': 'movie', 'isSeries': False, 'isEpisode': False, 'categories': [{'value': 'movie', '__typename': 'TitleTypeCategory'}], 'canHaveEpisodes': False, '__typename': 'TitleType'}, 'titleText': {'text': 'Detective Chinatown 1900', '__typename': 'TitleText'}, 'originalTitleText': {'text': 'Tang Ren Jie Tan an 1900', '__typename': 'TitleText'}, 'releaseYear': {'year': 2025, 'endYear': None, '__typename': 'YearRange'}, 'releaseDate': {'day': None, 'month': None, 'year': 2025, '__typename': 'ReleaseDate'}}, {'_id': '6743a4bb7a1326dd9697e91a', 'id': 'tt34513734', 'primaryImage': {'id': 'rm3499189505', 'width': 1044, 'height': 1656, 'url': 'https://m.media-amazon.com/images/M/MV5BMzRkZWE0ZTYtYzZmZi00NjQzLWExZmEtNGNiY2MyNWNjZmIxXkEyXkFqcGc@._V1_.jpg', 'caption': {'plainText': 'The Fragrance of Petrichor (2025)', '__typename': 'Markdown'}, '__typename': 'Image'}, 'titleType': {'displayableProperty': {'value': {'plainText': '', '__typename': 'Markdown'}, '__typename': 'DisplayableTitleTypeProperty'}, 'text': 'Movie', 'id': 'movie', 'isSeries': False, 'isEpisode': False, 'categories': [{'value': 'movie', '__typename': 'TitleTypeCategory'}], 'canHaveEpisodes': False, '__typename': 'TitleType'}, 'titleText': {'text': 'The Fragrance of Petrichor', '__typename': 'TitleText'}, 'originalTitleText': {'text': 'The Fragrance of Petrichor', '__typename': 'TitleText'}, 'releaseYear': {'year': 2025, 'endYear': None, '__typename': 'YearRange'}, 'releaseDate': {'day': None, 'month': None, 'year': 2025, '__typename': 'ReleaseDate'}}, {'_id': '6743a5cdd0e20b007197f246', 'id': 'tt34532009', 'primaryImage': None, 'titleType': {'displayableProperty': {'value': {'plainText': '', '__typename': 'Markdown'}, '__typename': 'DisplayableTitleTypeProperty'}, 'text': 'Movie', 'id': 'movie', 'isSeries': False, 'isEpisode': False, 'categories': [{'value': 'movie', '__typename': 'TitleTypeCategory'}], 'canHaveEpisodes': False, '__typename': 'TitleType'}, 'titleText': {'text': \"Five Nights at TK's Ends: The Last Move\", '__typename': 'TitleText'}, 'originalTitleText': {'text': \"Five Nights at TK's Ends: The Last Move\", '__typename': 'TitleText'}, 'releaseYear': {'year': 2025, 'endYear': None, '__typename': 'YearRange'}, 'releaseDate': {'day': 18, 'month': 6, 'year': 2025, '__typename': 'ReleaseDate'}}, {'_id': '6743a68ad0e20b007197f83a', 'id': 'tt34540760', 'primaryImage': {'id': 'rm490759425', 'width': 1080, 'height': 1920, 'url': 'https://m.media-amazon.com/images/M/MV5BODZlZWVmYjgtNmY2OS00YzkyLTg4MWMtNzIxODkwMjc1ZWFjXkEyXkFqcGc@._V1_.jpg', 'caption': {'plainText': 'Living Non Living (2025)', '__typename': 'Markdown'}, '__typename': 'Image'}, 'titleType': {'displayableProperty': {'value': {'plainText': '', '__typename': 'Markdown'}, '__typename': 'DisplayableTitleTypeProperty'}, 'text': 'Movie', 'id': 'movie', 'isSeries': False, 'isEpisode': False, 'categories': [{'value': 'movie', '__typename': 'TitleTypeCategory'}], 'canHaveEpisodes': False, '__typename': 'TitleType'}, 'titleText': {'text': 'Living Non Living', '__typename': 'TitleText'}, 'originalTitleText': {'text': 'Living Non Living', '__typename': 'TitleText'}, 'releaseYear': {'year': 2025, 'endYear': None, '__typename': 'YearRange'}, 'releaseDate': None}, {'_id': '6743a712d0e20b007197fc72', 'id': 'tt34547701', 'primaryImage': {'id': 'rm1604819714', 'width': 1118, 'height': 1599, 'url': 'https://m.media-amazon.com/images/M/MV5BMmI2NjNkNTEtMmM1My00YzdmLWJiMDAtNGE5N2U0YmFmZDI5XkEyXkFqcGc@._V1_.jpg', 'caption': {'plainText': 'Believe: The Ultimate Battle (2025)', '__typename': 'Markdown'}, '__typename': 'Image'}, 'titleType': {'displayableProperty': {'value': {'plainText': '', '__typename': 'Markdown'}, '__typename': 'DisplayableTitleTypeProperty'}, 'text': 'Movie', 'id': 'movie', 'isSeries': False, 'isEpisode': False, 'categories': [{'value': 'movie', '__typename': 'TitleTypeCategory'}], 'canHaveEpisodes': False, '__typename': 'TitleType'}, 'titleText': {'text': 'Believe: The Ultimate Battle', '__typename': 'TitleText'}, 'originalTitleText': {'text': 'Believe: The Ultimate Battle', '__typename': 'TitleText'}, 'releaseYear': {'year': 2025, 'endYear': None, '__typename': 'YearRange'}, 'releaseDate': {'day': None, 'month': None, 'year': 2025, '__typename': 'ReleaseDate'}}, {'_id': '6743a730d0e20b007197fd6a', 'id': 'tt34548722', 'primaryImage': {'id': 'rm2349098241', 'width': 529, 'height': 755, 'url': 'https://m.media-amazon.com/images/M/MV5BMGYyYmZmZmMtNTc3ZS00ZmYyLTk1YWYtMmVhMjhhZjJkM2E4XkEyXkFqcGc@._V1_.jpg', 'caption': {'plainText': 'Sore: Istri dari Masa Depan (2025)', '__typename': 'Markdown'}, '__typename': 'Image'}, 'titleType': {'displayableProperty': {'value': {'plainText': '', '__typename': 'Markdown'}, '__typename': 'DisplayableTitleTypeProperty'}, 'text': 'Movie', 'id': 'movie', 'isSeries': False, 'isEpisode': False, 'categories': [{'value': 'movie', '__typename': 'TitleTypeCategory'}], 'canHaveEpisodes': False, '__typename': 'TitleType'}, 'titleText': {'text': 'Sore: Istri dari Masa Depan', '__typename': 'TitleText'}, 'originalTitleText': {'text': 'Sore: Istri dari Masa Depan', '__typename': 'TitleText'}, 'releaseYear': {'year': 2025, 'endYear': None, '__typename': 'YearRange'}, 'releaseDate': {'day': None, 'month': None, 'year': 2025, '__typename': 'ReleaseDate'}}, {'_id': '6743a8697a1326dd969806ac', 'id': 'tt34568405', 'primaryImage': {'id': 'rm4027213057', 'width': 1560, 'height': 2220, 'url': 'https://m.media-amazon.com/images/M/MV5BMDdjYTNjNmQtMDY4Mi00YTc5LWIxYTItYzM0ZWM0ZjkwMmQ2XkEyXkFqcGc@._V1_.jpg', 'caption': {'plainText': \"Bo Simmons in The Preacher's Truth (2025)\", '__typename': 'Markdown'}, '__typename': 'Image'}, 'titleType': {'displayableProperty': {'value': {'plainText': '', '__typename': 'Markdown'}, '__typename': 'DisplayableTitleTypeProperty'}, 'text': 'Movie', 'id': 'movie', 'isSeries': False, 'isEpisode': False, 'categories': [{'value': 'movie', '__typename': 'TitleTypeCategory'}], 'canHaveEpisodes': False, '__typename': 'TitleType'}, 'titleText': {'text': \"The Preacher's Truth\", '__typename': 'TitleText'}, 'originalTitleText': {'text': \"The Preacher's Truth\", '__typename': 'TitleText'}, 'releaseYear': {'year': 2025, 'endYear': None, '__typename': 'YearRange'}, 'releaseDate': {'day': 14, 'month': 2, 'year': 2025, '__typename': 'ReleaseDate'}}, {'_id': '6743a89dd0e20b00719808d2', 'id': 'tt34571222', 'primaryImage': None, 'titleType': {'displayableProperty': {'value': {'plainText': '', '__typename': 'Markdown'}, '__typename': 'DisplayableTitleTypeProperty'}, 'text': 'Movie', 'id': 'movie', 'isSeries': False, 'isEpisode': False, 'categories': [{'value': 'movie', '__typename': 'TitleTypeCategory'}], 'canHaveEpisodes': False, '__typename': 'TitleType'}, 'titleText': {'text': 'Hypnosis Mic - Division Rap Battle', '__typename': 'TitleText'}, 'originalTitleText': {'text': 'Hypnosis Mic - Division Rap Battle', '__typename': 'TitleText'}, 'releaseYear': {'year': 2025, 'endYear': None, '__typename': 'YearRange'}, 'releaseDate': {'day': 21, 'month': 2, 'year': 2025, '__typename': 'ReleaseDate'}}, {'_id': '6743a9af7a1326dd969810c2', 'id': 'tt34583541', 'primaryImage': {'id': 'rm264936194', 'width': 4000, 'height': 6000, 'url': 'https://m.media-amazon.com/images/M/MV5BNzY1OTBkZTItNmQwOC00YjE5LWE5ZmMtM2Y3MmE2ZGRlMWMzXkEyXkFqcGc@._V1_.jpg', 'caption': {'plainText': 'Alex & MOR(A Love Odyssey) (2025)', '__typename': 'Markdown'}, '__typename': 'Image'}, 'titleType': {'displayableProperty': {'value': {'plainText': '', '__typename': 'Markdown'}, '__typename': 'DisplayableTitleTypeProperty'}, 'text': 'Movie', 'id': 'movie', 'isSeries': False, 'isEpisode': False, 'categories': [{'value': 'movie', '__typename': 'TitleTypeCategory'}], 'canHaveEpisodes': False, '__typename': 'TitleType'}, 'titleText': {'text': 'Alex & MOR(A Love Odyssey)', '__typename': 'TitleText'}, 'originalTitleText': {'text': 'Alex & MOR(A Love Odyssey)', '__typename': 'TitleText'}, 'releaseYear': {'year': 2025, 'endYear': None, '__typename': 'YearRange'}, 'releaseDate': None}, {'_id': '6743aa1bd0e20b00719814ae', 'id': 'tt34588594', 'primaryImage': {'id': 'rm1285724674', 'width': 2000, 'height': 3000, 'url': 'https://m.media-amazon.com/images/M/MV5BMDZjNTMyODktNzFhYy00YTU5LWFhNjItNTEwYWJmYmFhZjE0XkEyXkFqcGc@._V1_.jpg', 'caption': {'plainText': 'Bingo (2025)', '__typename': 'Markdown'}, '__typename': 'Image'}, 'titleType': {'displayableProperty': {'value': {'plainText': '', '__typename': 'Markdown'}, '__typename': 'DisplayableTitleTypeProperty'}, 'text': 'Movie', 'id': 'movie', 'isSeries': False, 'isEpisode': False, 'categories': [{'value': 'movie', '__typename': 'TitleTypeCategory'}], 'canHaveEpisodes': False, '__typename': 'TitleType'}, 'titleText': {'text': 'Bingo', '__typename': 'TitleText'}, 'originalTitleText': {'text': 'Bingo', '__typename': 'TitleText'}, 'releaseYear': {'year': 2025, 'endYear': None, '__typename': 'YearRange'}, 'releaseDate': {'day': None, 'month': None, 'year': 2025, '__typename': 'ReleaseDate'}}, {'_id': '6743ab067a1326dd96981b62', 'id': 'tt34606065', 'primaryImage': {'id': 'rm1301846530', 'width': 4320, 'height': 5400, 'url': 'https://m.media-amazon.com/images/M/MV5BZThkODQ0OTYtMDg3Ny00MTVkLWJmMTUtYjRkNzQ3MTE4MmVkXkEyXkFqcGc@._V1_.jpg', 'caption': {'plainText': 'Ekta Bachwani, Jagjeetsinh Vadher, Nakshraaj, Mayur Soneji, Jahnvi Chauhan, Magan Luhar, Mir Hanif, Kapil Goswami, Jaydeep Timaniya, Fezan Sorathiya, Hitansh Hitesh Surani, Sangita Khilwani, Prakash Goswami, Poonam Gor, Megha Banker, Mayur Jaiswal, Chetan Dhanani, Abhinay Banker, Pralay Rawal, Utsav Naik, Alisha Prajapati, Bimal Trivedi, Dipen Raval, and Anjali Barot in Victor 303 (2025)', '__typename': 'Markdown'}, '__typename': 'Image'}, 'titleType': {'displayableProperty': {'value': {'plainText': '', '__typename': 'Markdown'}, '__typename': 'DisplayableTitleTypeProperty'}, 'text': 'Movie', 'id': 'movie', 'isSeries': False, 'isEpisode': False, 'categories': [{'value': 'movie', '__typename': 'TitleTypeCategory'}], 'canHaveEpisodes': False, '__typename': 'TitleType'}, 'titleText': {'text': 'Victor 303', '__typename': 'TitleText'}, 'originalTitleText': {'text': 'Victor 303', '__typename': 'TitleText'}, 'releaseYear': {'year': 2025, 'endYear': None, '__typename': 'YearRange'}, 'releaseDate': {'day': 3, 'month': 1, 'year': 2025, '__typename': 'ReleaseDate'}}, {'_id': '6743ab617a1326dd96981e2e', 'id': 'tt34609033', 'primaryImage': {'id': 'rm1263180290', 'width': 2400, 'height': 3212, 'url': 'https://m.media-amazon.com/images/M/MV5BYWRmMTFiYmUtMTEzMC00YTQ0LTgwZWQtNmJlNjM1N2I4M2UyXkEyXkFqcGc@._V1_.jpg', 'caption': {'plainText': 'A Better Man (2025)', '__typename': 'Markdown'}, '__typename': 'Image'}, 'titleType': {'displayableProperty': {'value': {'plainText': '', '__typename': 'Markdown'}, '__typename': 'DisplayableTitleTypeProperty'}, 'text': 'Movie', 'id': 'movie', 'isSeries': False, 'isEpisode': False, 'categories': [{'value': 'movie', '__typename': 'TitleTypeCategory'}], 'canHaveEpisodes': False, '__typename': 'TitleType'}, 'titleText': {'text': 'A Better Man', '__typename': 'TitleText'}, 'originalTitleText': {'text': 'A Better Man', '__typename': 'TitleText'}, 'releaseYear': {'year': 2025, 'endYear': None, '__typename': 'YearRange'}, 'releaseDate': {'day': None, 'month': None, 'year': 2025, '__typename': 'ReleaseDate'}}, {'_id': '6743abb87a1326dd969820de', 'id': 'tt34610311', 'primaryImage': None, 'titleType': {'displayableProperty': {'value': {'plainText': '', '__typename': 'Markdown'}, '__typename': 'DisplayableTitleTypeProperty'}, 'text': 'Movie', 'id': 'movie', 'isSeries': False, 'isEpisode': False, 'categories': [{'value': 'movie', '__typename': 'TitleTypeCategory'}], 'canHaveEpisodes': False, '__typename': 'TitleType'}, 'titleText': {'text': 'Bu Feng Zhui Ying', '__typename': 'TitleText'}, 'originalTitleText': {'text': 'Bu Feng Zhui Ying', '__typename': 'TitleText'}, 'releaseYear': {'year': 2025, 'endYear': None, '__typename': 'YearRange'}, 'releaseDate': {'day': None, 'month': None, 'year': 2025, '__typename': 'ReleaseDate'}}, {'_id': '6743ac6e7a1326dd9698266c', 'id': 'tt34617987', 'primaryImage': {'id': 'rm2154994178', 'width': 533, 'height': 533, 'url': 'https://m.media-amazon.com/images/M/MV5BMTA3MjE4MDQtYjc4Yy00YzM0LWJkNjMtYTE2MTRlZWFlMzU0XkEyXkFqcGc@._V1_.jpg', 'caption': {'plainText': 'Teen Tolyache Mangalsutra (2025)', '__typename': 'Markdown'}, '__typename': 'Image'}, 'titleType': {'displayableProperty': {'value': {'plainText': '', '__typename': 'Markdown'}, '__typename': 'DisplayableTitleTypeProperty'}, 'text': 'Movie', 'id': 'movie', 'isSeries': False, 'isEpisode': False, 'categories': [{'value': 'movie', '__typename': 'TitleTypeCategory'}], 'canHaveEpisodes': False, '__typename': 'TitleType'}, 'titleText': {'text': 'Teen Tolyache Mangalsutra', '__typename': 'TitleText'}, 'originalTitleText': {'text': 'Teen Tolyache Mangalsutra', '__typename': 'TitleText'}, 'releaseYear': {'year': 2025, 'endYear': None, '__typename': 'YearRange'}, 'releaseDate': {'day': 3, 'month': 2, 'year': 2025, '__typename': 'ReleaseDate'}}, {'_id': '6743aeb27a1326dd96983850', 'id': 'tt34625711', 'primaryImage': None, 'titleType': {'displayableProperty': {'value': {'plainText': '', '__typename': 'Markdown'}, '__typename': 'DisplayableTitleTypeProperty'}, 'text': 'Movie', 'id': 'movie', 'isSeries': False, 'isEpisode': False, 'categories': [{'value': 'movie', '__typename': 'TitleTypeCategory'}], 'canHaveEpisodes': False, '__typename': 'TitleType'}, 'titleText': {'text': 'Trash Baby', '__typename': 'TitleText'}, 'originalTitleText': {'text': 'Trash Baby', '__typename': 'TitleText'}, 'releaseYear': {'year': 2025, 'endYear': None, '__typename': 'YearRange'}, 'releaseDate': None}, {'_id': '6743af0cd0e20b0071983ba4', 'id': 'tt34637821', 'primaryImage': {'id': 'rm3302201346', 'width': 2000, 'height': 2829, 'url': 'https://m.media-amazon.com/images/M/MV5BMWNhODM1MjgtNThmNS00NDllLThmZDgtZDk0NjBmYjRiZDQ1XkEyXkFqcGc@._V1_.jpg', 'caption': {'plainText': 'El Retrato en la Mirada (2025)', '__typename': 'Markdown'}, '__typename': 'Image'}, 'titleType': {'displayableProperty': {'value': {'plainText': '', '__typename': 'Markdown'}, '__typename': 'DisplayableTitleTypeProperty'}, 'text': 'Movie', 'id': 'movie', 'isSeries': False, 'isEpisode': False, 'categories': [{'value': 'movie', '__typename': 'TitleTypeCategory'}], 'canHaveEpisodes': False, '__typename': 'TitleType'}, 'titleText': {'text': 'El Retrato en la Mirada', '__typename': 'TitleText'}, 'originalTitleText': {'text': 'El Retrato en la Mirada', '__typename': 'TitleText'}, 'releaseYear': {'year': 2025, 'endYear': None, '__typename': 'YearRange'}, 'releaseDate': {'day': 5, 'month': 6, 'year': 2025, '__typename': 'ReleaseDate'}}, {'_id': '6743b14a7a1326dd96984d64', 'id': 'tt34678593', 'primaryImage': {'id': 'rm936614658', 'width': 2867, 'height': 4096, 'url': 'https://m.media-amazon.com/images/M/MV5BZTE2ZWYzM2MtNmFiZi00M2ZhLWE1NDMtNGFkYjRmOGIwODI2XkEyXkFqcGc@._V1_.jpg', 'caption': {'plainText': 'Ruido (2025)', '__typename': 'Markdown'}, '__typename': 'Image'}, 'titleType': {'displayableProperty': {'value': {'plainText': '', '__typename': 'Markdown'}, '__typename': 'DisplayableTitleTypeProperty'}, 'text': 'Movie', 'id': 'movie', 'isSeries': False, 'isEpisode': False, 'categories': [{'value': 'movie', '__typename': 'TitleTypeCategory'}], 'canHaveEpisodes': False, '__typename': 'TitleType'}, 'titleText': {'text': 'Ruido', '__typename': 'TitleText'}, 'originalTitleText': {'text': 'Ruido', '__typename': 'TitleText'}, 'releaseYear': {'year': 2025, 'endYear': None, '__typename': 'YearRange'}, 'releaseDate': {'day': None, 'month': None, 'year': 2025, '__typename': 'ReleaseDate'}}, {'_id': '6743b23ad0e20b00719855cc', 'id': 'tt34692381', 'primaryImage': None, 'titleType': {'displayableProperty': {'value': {'plainText': '', '__typename': 'Markdown'}, '__typename': 'DisplayableTitleTypeProperty'}, 'text': 'Movie', 'id': 'movie', 'isSeries': False, 'isEpisode': False, 'categories': [{'value': 'movie', '__typename': 'TitleTypeCategory'}], 'canHaveEpisodes': False, '__typename': 'TitleType'}, 'titleText': {'text': 'Navigating Juvenescence', '__typename': 'TitleText'}, 'originalTitleText': {'text': 'Navigating Juvenescence', '__typename': 'TitleText'}, 'releaseYear': {'year': 2025, 'endYear': None, '__typename': 'YearRange'}, 'releaseDate': {'day': None, 'month': None, 'year': 2025, '__typename': 'ReleaseDate'}}, {'_id': '6743b24ad0e20b007198564c', 'id': 'tt34693641', 'primaryImage': None, 'titleType': {'displayableProperty': {'value': {'plainText': '', '__typename': 'Markdown'}, '__typename': 'DisplayableTitleTypeProperty'}, 'text': 'Movie', 'id': 'movie', 'isSeries': False, 'isEpisode': False, 'categories': [{'value': 'movie', '__typename': 'TitleTypeCategory'}], 'canHaveEpisodes': False, '__typename': 'TitleType'}, 'titleText': {'text': '14 February', '__typename': 'TitleText'}, 'originalTitleText': {'text': '14 February', '__typename': 'TitleText'}, 'releaseYear': {'year': 2025, 'endYear': None, '__typename': 'YearRange'}, 'releaseDate': {'day': 13, 'month': 2, 'year': 2025, '__typename': 'ReleaseDate'}}, {'_id': '6743b3167a1326dd96985c4a', 'id': 'tt34705225', 'primaryImage': None, 'titleType': {'displayableProperty': {'value': {'plainText': '', '__typename': 'Markdown'}, '__typename': 'DisplayableTitleTypeProperty'}, 'text': 'Movie', 'id': 'movie', 'isSeries': False, 'isEpisode': False, 'categories': [{'value': 'movie', '__typename': 'TitleTypeCategory'}], 'canHaveEpisodes': False, '__typename': 'TitleType'}, 'titleText': {'text': 'The Council 2', '__typename': 'TitleText'}, 'originalTitleText': {'text': 'The Council 2', '__typename': 'TitleText'}, 'releaseYear': {'year': 2025, 'endYear': None, '__typename': 'YearRange'}, 'releaseDate': {'day': 21, 'month': 2, 'year': 2025, '__typename': 'ReleaseDate'}}, {'_id': '6743b331d0e20b0071985db8', 'id': 'tt34705762', 'primaryImage': {'id': 'rm3143867138', 'width': 2368, 'height': 3508, 'url': 'https://m.media-amazon.com/images/M/MV5BMDIxNzI5NmEtNTE3Zi00YTc2LWExZTUtMjc3YzM2ZjczZTMwXkEyXkFqcGc@._V1_.jpg', 'caption': {'plainText': 'Irina Borovkova, Paris Streletskiy, Daniil Mart, and Stepan Sazonov in Airminded heads (2025)', '__typename': 'Markdown'}, '__typename': 'Image'}, 'titleType': {'displayableProperty': {'value': {'plainText': '', '__typename': 'Markdown'}, '__typename': 'DisplayableTitleTypeProperty'}, 'text': 'Movie', 'id': 'movie', 'isSeries': False, 'isEpisode': False, 'categories': [{'value': 'movie', '__typename': 'TitleTypeCategory'}], 'canHaveEpisodes': False, '__typename': 'TitleType'}, 'titleText': {'text': 'Airminded heads', '__typename': 'TitleText'}, 'originalTitleText': {'text': 'Airminded heads', '__typename': 'TitleText'}, 'releaseYear': {'year': 2025, 'endYear': None, '__typename': 'YearRange'}, 'releaseDate': {'day': None, 'month': None, 'year': 2025, '__typename': 'ReleaseDate'}}, {'_id': '6743b352d0e20b0071985ec8', 'id': 'tt34707362', 'primaryImage': {'id': 'rm2895682306', 'width': 1080, 'height': 1350, 'url': 'https://m.media-amazon.com/images/M/MV5BYmFhYzRjOGUtMGU3Mi00YmZjLWI4ZWUtMjcxZWU3MWU3NjFlXkEyXkFqcGc@._V1_.jpg', 'caption': {'plainText': 'Against all odds (2025)', '__typename': 'Markdown'}, '__typename': 'Image'}, 'titleType': {'displayableProperty': {'value': {'plainText': '', '__typename': 'Markdown'}, '__typename': 'DisplayableTitleTypeProperty'}, 'text': 'Movie', 'id': 'movie', 'isSeries': False, 'isEpisode': False, 'categories': [{'value': 'movie', '__typename': 'TitleTypeCategory'}], 'canHaveEpisodes': False, '__typename': 'TitleType'}, 'titleText': {'text': 'Against all odds', '__typename': 'TitleText'}, 'originalTitleText': {'text': 'Against all odds', '__typename': 'TitleText'}, 'releaseYear': {'year': 2025, 'endYear': None, '__typename': 'YearRange'}, 'releaseDate': {'day': 6, 'month': 7, 'year': 2025, '__typename': 'ReleaseDate'}}, {'_id': '6743b353d0e20b0071985ed0', 'id': 'tt34707371', 'primaryImage': {'id': 'rm4002978562', 'width': 1080, 'height': 1350, 'url': 'https://m.media-amazon.com/images/M/MV5BYWVhMzVmMzEtZGEwYy00ZDBlLWJhOWUtZThhMDIxMmM0Mzg4XkEyXkFqcGc@._V1_.jpg', 'caption': {'plainText': \"Greg's Regret (2025)\", '__typename': 'Markdown'}, '__typename': 'Image'}, 'titleType': {'displayableProperty': {'value': {'plainText': '', '__typename': 'Markdown'}, '__typename': 'DisplayableTitleTypeProperty'}, 'text': 'Movie', 'id': 'movie', 'isSeries': False, 'isEpisode': False, 'categories': [{'value': 'movie', '__typename': 'TitleTypeCategory'}], 'canHaveEpisodes': False, '__typename': 'TitleType'}, 'titleText': {'text': \"Greg's Regret\", '__typename': 'TitleText'}, 'originalTitleText': {'text': \"Greg's Regret\", '__typename': 'TitleText'}, 'releaseYear': {'year': 2025, 'endYear': None, '__typename': 'YearRange'}, 'releaseDate': {'day': 14, 'month': 7, 'year': 2025, '__typename': 'ReleaseDate'}}, {'_id': '6743b3557a1326dd96985e50', 'id': 'tt34707383', 'primaryImage': {'id': 'rm3331889922', 'width': 1080, 'height': 1350, 'url': 'https://m.media-amazon.com/images/M/MV5BN2Q3OGI4ODctZGIzMC00NzQ3LWE1ZWQtNDI2ZWQxNTJjOWI4XkEyXkFqcGc@._V1_.jpg', 'caption': {'plainText': 'The Hospital Bill (2025)', '__typename': 'Markdown'}, '__typename': 'Image'}, 'titleType': {'displayableProperty': {'value': {'plainText': '', '__typename': 'Markdown'}, '__typename': 'DisplayableTitleTypeProperty'}, 'text': 'Movie', 'id': 'movie', 'isSeries': False, 'isEpisode': False, 'categories': [{'value': 'movie', '__typename': 'TitleTypeCategory'}], 'canHaveEpisodes': False, '__typename': 'TitleType'}, 'titleText': {'text': 'The Hospital Bill', '__typename': 'TitleText'}, 'originalTitleText': {'text': 'The Hospital Bill', '__typename': 'TitleText'}, 'releaseYear': {'year': 2025, 'endYear': None, '__typename': 'YearRange'}, 'releaseDate': {'day': 12, 'month': 6, 'year': 2025, '__typename': 'ReleaseDate'}}, {'_id': '6743b440d0e20b0071986686', 'id': 'tt34720693', 'primaryImage': {'id': 'rm1280154370', 'width': 960, 'height': 960, 'url': 'https://m.media-amazon.com/images/M/MV5BMTJmYzQ0MmQtNDRmYi00NzE0LWFkODgtNjM5MGQ4MGNmNjc4XkEyXkFqcGc@._V1_.jpg', 'caption': {'plainText': 'Amani Fawwaz, Rachel Flannigan, Cortece Henderson, Hakeem Sharif, and Kelvin Deuce Rice in Credence the Movie (2025)', '__typename': 'Markdown'}, '__typename': 'Image'}, 'titleType': {'displayableProperty': {'value': {'plainText': '', '__typename': 'Markdown'}, '__typename': 'DisplayableTitleTypeProperty'}, 'text': 'Movie', 'id': 'movie', 'isSeries': False, 'isEpisode': False, 'categories': [{'value': 'movie', '__typename': 'TitleTypeCategory'}], 'canHaveEpisodes': False, '__typename': 'TitleType'}, 'titleText': {'text': 'Credence the Movie', '__typename': 'TitleText'}, 'originalTitleText': {'text': 'Credence the Movie', '__typename': 'TitleText'}, 'releaseYear': {'year': 2025, 'endYear': None, '__typename': 'YearRange'}, 'releaseDate': {'day': None, 'month': 1, 'year': 2025, '__typename': 'ReleaseDate'}}, {'_id': '674768c538e167071ffc997d', 'id': 'tt34748179', 'primaryImage': None, 'titleType': {'displayableProperty': {'value': {'plainText': '', '__typename': 'Markdown'}, '__typename': 'DisplayableTitleTypeProperty'}, 'text': 'Movie', 'id': 'movie', 'isSeries': False, 'isEpisode': False, 'categories': [{'value': 'movie', '__typename': 'TitleTypeCategory'}], 'canHaveEpisodes': False, '__typename': 'TitleType'}, 'titleText': {'text': 'Right Man, Wrong Woman', '__typename': 'TitleText'}, 'originalTitleText': {'text': 'Right Man, Wrong Woman', '__typename': 'TitleText'}, 'releaseYear': {'year': 2025, 'endYear': None, '__typename': 'YearRange'}, 'releaseDate': {'day': None, 'month': None, 'year': 2025, '__typename': 'ReleaseDate'}}, {'_id': '674768c9443c61cdbbfc9997', 'id': 'tt34748816', 'primaryImage': {'id': 'rm3446708226', 'width': 654, 'height': 994, 'url': 'https://m.media-amazon.com/images/M/MV5BOGQ1ZTg5MWQtMDI2Ni00YmVlLWE2YjktMmU3ZWE0NzhlMTExXkEyXkFqcGc@._V1_.jpg', 'caption': {'plainText': 'The Anthology (2025)', '__typename': 'Markdown'}, '__typename': 'Image'}, 'titleType': {'displayableProperty': {'value': {'plainText': '', '__typename': 'Markdown'}, '__typename': 'DisplayableTitleTypeProperty'}, 'text': 'Movie', 'id': 'movie', 'isSeries': False, 'isEpisode': False, 'categories': [{'value': 'movie', '__typename': 'TitleTypeCategory'}], 'canHaveEpisodes': False, '__typename': 'TitleType'}, 'titleText': {'text': 'The Anthology', '__typename': 'TitleText'}, 'originalTitleText': {'text': 'The Anthology', '__typename': 'TitleText'}, 'releaseYear': {'year': 2025, 'endYear': None, '__typename': 'YearRange'}, 'releaseDate': {'day': 7, 'month': 2, 'year': 2025, '__typename': 'ReleaseDate'}}, {'_id': '6747695538e167071ffc9e29', 'id': 'tt34753887', 'primaryImage': {'id': 'rm4294940674', 'width': 2480, 'height': 3508, 'url': 'https://m.media-amazon.com/images/M/MV5BN2I4OWRiOTYtNGRjZS00OTI0LWJjNzktNDMxZTQxNjE0MGFmXkEyXkFqcGc@._V1_.jpg', 'caption': {'plainText': 'Pelajar +62: Perjuanganku (2025)', '__typename': 'Markdown'}, '__typename': 'Image'}, 'titleType': {'displayableProperty': {'value': {'plainText': '', '__typename': 'Markdown'}, '__typename': 'DisplayableTitleTypeProperty'}, 'text': 'Movie', 'id': 'movie', 'isSeries': False, 'isEpisode': False, 'categories': [{'value': 'movie', '__typename': 'TitleTypeCategory'}], 'canHaveEpisodes': False, '__typename': 'TitleType'}, 'titleText': {'text': 'Pelajar +62: Perjuanganku', '__typename': 'TitleText'}, 'originalTitleText': {'text': 'Pelajar +62: Perjuanganku', '__typename': 'TitleText'}, 'releaseYear': {'year': 2025, 'endYear': None, '__typename': 'YearRange'}, 'releaseDate': {'day': 5, 'month': 2, 'year': 2025, '__typename': 'ReleaseDate'}}, {'_id': '6748bafd6103a4ee959c3dee', 'id': 'tt34771515', 'primaryImage': {'id': 'rm2458294274', 'width': 1755, 'height': 2480, 'url': 'https://m.media-amazon.com/images/M/MV5BYjlmY2M5OTAtYWM5NS00NmQ5LTkxYzctNDVjMTAxZTI0OWM0XkEyXkFqcGc@._V1_.jpg', 'caption': {'plainText': 'La Noche de Los Tres Fuegos (2025)', '__typename': 'Markdown'}, '__typename': 'Image'}, 'titleType': {'displayableProperty': {'value': {'plainText': '', '__typename': 'Markdown'}, '__typename': 'DisplayableTitleTypeProperty'}, 'text': 'Movie', 'id': 'movie', 'isSeries': False, 'isEpisode': False, 'categories': [{'value': 'movie', '__typename': 'TitleTypeCategory'}], 'canHaveEpisodes': False, '__typename': 'TitleType'}, 'titleText': {'text': 'La Noche de Los Tres Fuegos', '__typename': 'TitleText'}, 'originalTitleText': {'text': 'La Noche de Los Tres Fuegos', '__typename': 'TitleText'}, 'releaseYear': {'year': 2025, 'endYear': None, '__typename': 'YearRange'}, 'releaseDate': {'day': 10, 'month': 4, 'year': 2025, '__typename': 'ReleaseDate'}}, {'_id': '674a0bfc1435499be74abeb2', 'id': 'tt34781820', 'primaryImage': None, 'titleType': {'displayableProperty': {'value': {'plainText': '', '__typename': 'Markdown'}, '__typename': 'DisplayableTitleTypeProperty'}, 'text': 'Movie', 'id': 'movie', 'isSeries': False, 'isEpisode': False, 'categories': [{'value': 'movie', '__typename': 'TitleTypeCategory'}], 'canHaveEpisodes': False, '__typename': 'TitleType'}, 'titleText': {'text': 'The Stamp Thief', '__typename': 'TitleText'}, 'originalTitleText': {'text': 'The Stamp Thief', '__typename': 'TitleText'}, 'releaseYear': {'year': 2025, 'endYear': None, '__typename': 'YearRange'}, 'releaseDate': {'day': None, 'month': 1, 'year': 2025, '__typename': 'ReleaseDate'}}, {'_id': '674a0c721435499be74ac2b6', 'id': 'tt34790123', 'primaryImage': {'id': 'rm2357630978', 'width': 2000, 'height': 3000, 'url': 'https://m.media-amazon.com/images/M/MV5BZDQ4YjkwZTMtYTAyZC00MjY2LWEzM2UtOWNhMGQyN2IwZDA2XkEyXkFqcGc@._V1_.jpg', 'caption': {'plainText': 'John M West Jr. and Quanita A. Smith in Flight Risk (2025)', '__typename': 'Markdown'}, '__typename': 'Image'}, 'titleType': {'displayableProperty': {'value': {'plainText': '', '__typename': 'Markdown'}, '__typename': 'DisplayableTitleTypeProperty'}, 'text': 'Movie', 'id': 'movie', 'isSeries': False, 'isEpisode': False, 'categories': [{'value': 'movie', '__typename': 'TitleTypeCategory'}], 'canHaveEpisodes': False, '__typename': 'TitleType'}, 'titleText': {'text': 'Flight Risk', '__typename': 'TitleText'}, 'originalTitleText': {'text': 'Flight Risk', '__typename': 'TitleText'}, 'releaseYear': {'year': 2025, 'endYear': None, '__typename': 'YearRange'}, 'releaseDate': {'day': None, 'month': None, 'year': 2025, '__typename': 'ReleaseDate'}}, {'_id': '674a0c8848a8aa219a4ac380', 'id': 'tt34790728', 'primaryImage': {'id': 'rm2241763330', 'width': 1500, 'height': 2100, 'url': 'https://m.media-amazon.com/images/M/MV5BMTEzM2JiMDQtMDEyYS00NTU5LTkyODUtNDFmOWYwNGE0NDM2XkEyXkFqcGc@._V1_.jpg', 'caption': {'plainText': 'Karo Dzhgalian in Sean Needs a Friend (2025)', '__typename': 'Markdown'}, '__typename': 'Image'}, 'titleType': {'displayableProperty': {'value': {'plainText': '', '__typename': 'Markdown'}, '__typename': 'DisplayableTitleTypeProperty'}, 'text': 'Movie', 'id': 'movie', 'isSeries': False, 'isEpisode': False, 'categories': [{'value': 'movie', '__typename': 'TitleTypeCategory'}], 'canHaveEpisodes': False, '__typename': 'TitleType'}, 'titleText': {'text': 'Sean Needs a Friend', '__typename': 'TitleText'}, 'originalTitleText': {'text': 'Sean Needs a Friend', '__typename': 'TitleText'}, 'releaseYear': {'year': 2025, 'endYear': None, '__typename': 'YearRange'}, 'releaseDate': {'day': None, 'month': None, 'year': 2025, '__typename': 'ReleaseDate'}}, {'_id': '674b5d5499f4c5930aa722c2', 'id': 'tt34794210', 'primaryImage': {'id': 'rm311859202', 'width': 2129, 'height': 2728, 'url': 'https://m.media-amazon.com/images/M/MV5BMjFlYmE1NDgtODAwMC00NDA1LWEyMjQtOWNmNWI3NDMxM2YwXkEyXkFqcGc@._V1_.jpg', 'caption': {'plainText': 'Deccan Nights (2025)', '__typename': 'Markdown'}, '__typename': 'Image'}, 'titleType': {'displayableProperty': {'value': {'plainText': '', '__typename': 'Markdown'}, '__typename': 'DisplayableTitleTypeProperty'}, 'text': 'Movie', 'id': 'movie', 'isSeries': False, 'isEpisode': False, 'categories': [{'value': 'movie', '__typename': 'TitleTypeCategory'}], 'canHaveEpisodes': False, '__typename': 'TitleType'}, 'titleText': {'text': 'Deccan Nights', '__typename': 'TitleText'}, 'originalTitleText': {'text': 'Deccan Nights', '__typename': 'TitleText'}, 'releaseYear': {'year': 2025, 'endYear': None, '__typename': 'YearRange'}, 'releaseDate': {'day': None, 'month': None, 'year': 2025, '__typename': 'ReleaseDate'}}, {'_id': '674b5d9099f4c5930aa724b8', 'id': 'tt34798218', 'primaryImage': None, 'titleType': {'displayableProperty': {'value': {'plainText': '', '__typename': 'Markdown'}, '__typename': 'DisplayableTitleTypeProperty'}, 'text': 'Movie', 'id': 'movie', 'isSeries': False, 'isEpisode': False, 'categories': [{'value': 'movie', '__typename': 'TitleTypeCategory'}], 'canHaveEpisodes': False, '__typename': 'TitleType'}, 'titleText': {'text': 'Morlaix', '__typename': 'TitleText'}, 'originalTitleText': {'text': 'Morlaix', '__typename': 'TitleText'}, 'releaseYear': {'year': 2025, 'endYear': None, '__typename': 'YearRange'}, 'releaseDate': {'day': 14, 'month': 3, 'year': 2025, '__typename': 'ReleaseDate'}}, {'_id': '674b5db099f4c5930aa725ca', 'id': 'tt34798832', 'primaryImage': None, 'titleType': {'displayableProperty': {'value': {'plainText': '', '__typename': 'Markdown'}, '__typename': 'DisplayableTitleTypeProperty'}, 'text': 'Movie', 'id': 'movie', 'isSeries': False, 'isEpisode': False, 'categories': [{'value': 'movie', '__typename': 'TitleTypeCategory'}], 'canHaveEpisodes': False, '__typename': 'TitleType'}, 'titleText': {'text': \"The Tattooist's Son: Journey to Auschwitz\", '__typename': 'TitleText'}, 'originalTitleText': {'text': \"The Tattooist's Son: Journey to Auschwitz\", '__typename': 'TitleText'}, 'releaseYear': {'year': 2025, 'endYear': None, '__typename': 'YearRange'}, 'releaseDate': {'day': None, 'month': 1, 'year': 2025, '__typename': 'ReleaseDate'}}, {'_id': '674caee4689b79b4f522f2f4', 'id': 'tt34807878', 'primaryImage': None, 'titleType': {'displayableProperty': {'value': {'plainText': '', '__typename': 'Markdown'}, '__typename': 'DisplayableTitleTypeProperty'}, 'text': 'Movie', 'id': 'movie', 'isSeries': False, 'isEpisode': False, 'categories': [{'value': 'movie', '__typename': 'TitleTypeCategory'}], 'canHaveEpisodes': False, '__typename': 'TitleType'}, 'titleText': {'text': 'Sønnike', '__typename': 'TitleText'}, 'originalTitleText': {'text': 'Sønnike', '__typename': 'TitleText'}, 'releaseYear': {'year': 2025, 'endYear': None, '__typename': 'YearRange'}, 'releaseDate': {'day': 5, 'month': 6, 'year': 2025, '__typename': 'ReleaseDate'}}, {'_id': '674e00f450ecc1ce2996cfab', 'id': 'tt34821870', 'primaryImage': {'id': 'rm336173058', 'width': 1500, 'height': 1800, 'url': 'https://m.media-amazon.com/images/M/MV5BM2M4NzFhMTItMWU4Ni00YmY1LTgyNzAtMDM3ZmZhM2YxNjRlXkEyXkFqcGc@._V1_.jpg', 'caption': {'plainText': 'The Fisherman (2025)', '__typename': 'Markdown'}, '__typename': 'Image'}, 'titleType': {'displayableProperty': {'value': {'plainText': '', '__typename': 'Markdown'}, '__typename': 'DisplayableTitleTypeProperty'}, 'text': 'Movie', 'id': 'movie', 'isSeries': False, 'isEpisode': False, 'categories': [{'value': 'movie', '__typename': 'TitleTypeCategory'}], 'canHaveEpisodes': False, '__typename': 'TitleType'}, 'titleText': {'text': 'The Fisherman', '__typename': 'TitleText'}, 'originalTitleText': {'text': 'The Fisherman', '__typename': 'TitleText'}, 'releaseYear': {'year': 2025, 'endYear': None, '__typename': 'YearRange'}, 'releaseDate': None}, {'_id': '6750a451a8ff38a8019b036e', 'id': 'tt34855241', 'primaryImage': {'id': 'rm4072773890', 'width': 1034, 'height': 1600, 'url': 'https://m.media-amazon.com/images/M/MV5BNDVhM2JhMjItYWFlMS00MWFkLWE0OWItZTdmZDcyZDQ1MWM0XkEyXkFqcGc@._V1_.jpg', 'caption': {'plainText': 'After Hours: The Movie (2025)', '__typename': 'Markdown'}, '__typename': 'Image'}, 'titleType': {'displayableProperty': {'value': {'plainText': '', '__typename': 'Markdown'}, '__typename': 'DisplayableTitleTypeProperty'}, 'text': 'Movie', 'id': 'movie', 'isSeries': False, 'isEpisode': False, 'categories': [{'value': 'movie', '__typename': 'TitleTypeCategory'}], 'canHaveEpisodes': False, '__typename': 'TitleType'}, 'titleText': {'text': 'After Hours: The Movie', '__typename': 'TitleText'}, 'originalTitleText': {'text': 'After Hours: The Movie', '__typename': 'TitleText'}, 'releaseYear': {'year': 2025, 'endYear': None, '__typename': 'YearRange'}, 'releaseDate': {'day': 15, 'month': 1, 'year': 2025, '__typename': 'ReleaseDate'}}, {'_id': '6750a48ba8ff38a8019b04da', 'id': 'tt34860890', 'primaryImage': None, 'titleType': {'displayableProperty': {'value': {'plainText': '', '__typename': 'Markdown'}, '__typename': 'DisplayableTitleTypeProperty'}, 'text': 'Movie', 'id': 'movie', 'isSeries': False, 'isEpisode': False, 'categories': [{'value': 'movie', '__typename': 'TitleTypeCategory'}], 'canHaveEpisodes': False, '__typename': 'TitleType'}, 'titleText': {'text': 'ONE MORE LIKE', '__typename': 'TitleText'}, 'originalTitleText': {'text': 'ONE MORE LIKE', '__typename': 'TitleText'}, 'releaseYear': {'year': 2025, 'endYear': None, '__typename': 'YearRange'}, 'releaseDate': {'day': 25, 'month': 5, 'year': 2025, '__typename': 'ReleaseDate'}}, {'_id': '6750a493a22d42ae649b04fa', 'id': 'tt34861505', 'primaryImage': None, 'titleType': {'displayableProperty': {'value': {'plainText': '', '__typename': 'Markdown'}, '__typename': 'DisplayableTitleTypeProperty'}, 'text': 'Movie', 'id': 'movie', 'isSeries': False, 'isEpisode': False, 'categories': [{'value': 'movie', '__typename': 'TitleTypeCategory'}], 'canHaveEpisodes': False, '__typename': 'TitleType'}, 'titleText': {'text': 'Sprengstoff', '__typename': 'TitleText'}, 'originalTitleText': {'text': 'Sprengstoff', '__typename': 'TitleText'}, 'releaseYear': {'year': 2025, 'endYear': None, '__typename': 'YearRange'}, 'releaseDate': {'day': 8, 'month': 5, 'year': 2025, '__typename': 'ReleaseDate'}}, {'_id': '6750a49ca22d42ae649b0544', 'id': 'tt34861938', 'primaryImage': {'id': 'rm4041709826', 'width': 424, 'height': 600, 'url': 'https://m.media-amazon.com/images/M/MV5BZjE0ZjNiMWMtMzA0Mi00OGY2LWJlNGQtZWZjNDRhNjk0NWJhXkEyXkFqcGc@._V1_.jpg', 'caption': {'plainText': 'Be Forever Yamato Rebel 3199: Part 3: Ultramarine Asteroid (2025)', '__typename': 'Markdown'}, '__typename': 'Image'}, 'titleType': {'displayableProperty': {'value': {'plainText': '', '__typename': 'Markdown'}, '__typename': 'DisplayableTitleTypeProperty'}, 'text': 'Movie', 'id': 'movie', 'isSeries': False, 'isEpisode': False, 'categories': [{'value': 'movie', '__typename': 'TitleTypeCategory'}], 'canHaveEpisodes': False, '__typename': 'TitleType'}, 'titleText': {'text': 'Be Forever Yamato Rebel 3199: Part 3: Ultramarine Asteroid', '__typename': 'TitleText'}, 'originalTitleText': {'text': 'Be Forever Yamato Rebel 3199: Part 3: Ultramarine Asteroid', '__typename': 'TitleText'}, 'releaseYear': {'year': 2025, 'endYear': None, '__typename': 'YearRange'}, 'releaseDate': {'day': 11, 'month': 4, 'year': 2025, '__typename': 'ReleaseDate'}}, {'_id': '6750a517a22d42ae649b08ba', 'id': 'tt34865348', 'primaryImage': None, 'titleType': {'displayableProperty': {'value': {'plainText': '', '__typename': 'Markdown'}, '__typename': 'DisplayableTitleTypeProperty'}, 'text': 'Movie', 'id': 'movie', 'isSeries': False, 'isEpisode': False, 'categories': [{'value': 'movie', '__typename': 'TitleTypeCategory'}], 'canHaveEpisodes': False, '__typename': 'TitleType'}, 'titleText': {'text': 'Un hijo', '__typename': 'TitleText'}, 'originalTitleText': {'text': 'Un hijo', '__typename': 'TitleText'}, 'releaseYear': {'year': 2025, 'endYear': None, '__typename': 'YearRange'}, 'releaseDate': {'day': None, 'month': None, 'year': 2025, '__typename': 'ReleaseDate'}}, {'_id': '6750a51ca22d42ae649b08e8', 'id': 'tt34865421', 'primaryImage': {'id': 'rm1301190914', 'width': 1728, 'height': 2304, 'url': 'https://m.media-amazon.com/images/M/MV5BNDljZTI4NjAtMTM0Mi00ZThhLWIzYmMtMGQ2NDljNTNlYWFlXkEyXkFqcGc@._V1_.jpg', 'caption': {'plainText': 'This Must Be It (2025)', '__typename': 'Markdown'}, '__typename': 'Image'}, 'titleType': {'displayableProperty': {'value': {'plainText': '', '__typename': 'Markdown'}, '__typename': 'DisplayableTitleTypeProperty'}, 'text': 'Movie', 'id': 'movie', 'isSeries': False, 'isEpisode': False, 'categories': [{'value': 'movie', '__typename': 'TitleTypeCategory'}], 'canHaveEpisodes': False, '__typename': 'TitleType'}, 'titleText': {'text': 'This Must Be It', '__typename': 'TitleText'}, 'originalTitleText': {'text': 'This Must Be It', '__typename': 'TitleText'}, 'releaseYear': {'year': 2025, 'endYear': None, '__typename': 'YearRange'}, 'releaseDate': {'day': None, 'month': 2, 'year': 2025, '__typename': 'ReleaseDate'}}, {'_id': '6750a55fa22d42ae649b0abe', 'id': 'tt34867995', 'primaryImage': None, 'titleType': {'displayableProperty': {'value': {'plainText': '', '__typename': 'Markdown'}, '__typename': 'DisplayableTitleTypeProperty'}, 'text': 'Movie', 'id': 'movie', 'isSeries': False, 'isEpisode': False, 'categories': [{'value': 'movie', '__typename': 'TitleTypeCategory'}], 'canHaveEpisodes': False, '__typename': 'TitleType'}, 'titleText': {'text': 'Out of Pocket', '__typename': 'TitleText'}, 'originalTitleText': {'text': 'Out of Pocket', '__typename': 'TitleText'}, 'releaseYear': {'year': 2025, 'endYear': None, '__typename': 'YearRange'}, 'releaseDate': {'day': 9, 'month': 1, 'year': 2025, '__typename': 'ReleaseDate'}}, {'_id': '6751f5f2e0e1b092ccc8a16c', 'id': 'tt34880072', 'primaryImage': None, 'titleType': {'displayableProperty': {'value': {'plainText': '', '__typename': 'Markdown'}, '__typename': 'DisplayableTitleTypeProperty'}, 'text': 'Movie', 'id': 'movie', 'isSeries': False, 'isEpisode': False, 'categories': [{'value': 'movie', '__typename': 'TitleTypeCategory'}], 'canHaveEpisodes': False, '__typename': 'TitleType'}, 'titleText': {'text': 'Homens de Barro', '__typename': 'TitleText'}, 'originalTitleText': {'text': 'Homens de Barro', '__typename': 'TitleText'}, 'releaseYear': {'year': 2025, 'endYear': None, '__typename': 'YearRange'}, 'releaseDate': {'day': 6, 'month': 2, 'year': 2025, '__typename': 'ReleaseDate'}}]}\n"
     ]
    }
   ],
   "source": [
    "url = \"https://moviesdatabase.p.rapidapi.com/titles\"\n",
    "\n",
    "headers = {\n",
    "\t\"x-rapidapi-key\": \"f0aa977acemsh42d7af0bca32ac5p147ffejsn74e30ab678c4\",\n",
    "\t\"x-rapidapi-host\": \"moviesdatabase.p.rapidapi.com\"\n",
    "}\n",
    "params = {\n",
    "    \"startYear\": \"1990\",\n",
    "    #\"endYear\": \"2023\",\n",
    "    \"titleType\": \"movie\",\n",
    "    \"page\": 5,\n",
    "    \"limit\": 50,\n",
    "    \"genre\": \"Drama\"\n",
    "}\n",
    "\n",
    "response = requests.get(url, headers=headers, params=params)\n",
    "\n",
    "print(response.json())"
   ]
  },
  {
   "cell_type": "code",
   "execution_count": 3,
   "metadata": {},
   "outputs": [],
   "source": [
    "api_key = \"f0aa977acemsh42d7af0bca32ac5p147ffejsn74e30ab678c4\"\n",
    "api_host = \"moviesdatabase.p.rapidapi.com\""
   ]
  },
  {
   "cell_type": "markdown",
   "metadata": {},
   "source": []
  },
  {
   "cell_type": "code",
   "execution_count": 4,
   "metadata": {},
   "outputs": [],
   "source": [
    "lista_tipos=[\"movie\",\"short\"]\n",
    "lista_paginas=[\"1\",\"2\"]\n",
    "lista_generos=['Drama', 'Comedy', 'Action', 'Fantasy', 'Horror', 'Mystery', 'Romance', 'Thriller']\n",
    "lista_anios = [i for i in range(1990,2025)]\n",
    "\n"
   ]
  },
  {
   "cell_type": "code",
   "execution_count": null,
   "metadata": {},
   "outputs": [],
   "source": [
    "genres = ['Drama', 'Comedy', 'Action', 'Fantasy', 'Horror', 'Mystery', 'Romance', 'Thriller']\n",
    "tipes = ['movie', 'short']"
   ]
  },
  {
   "cell_type": "code",
   "execution_count": 5,
   "metadata": {},
   "outputs": [],
   "source": [
    "def get_registers(movie, genero):\n",
    "    movie_type = movie['titleType']['id']\n",
    "    movie_name = movie['titleText']['text']\n",
    "\n",
    "    movie_year = 0\n",
    "    try:\n",
    "        movie_year = movie['releaseDate']['year']\n",
    "    except:\n",
    "        movie_year = 0\n",
    "\n",
    "    movie_month = 0\n",
    "    try:\n",
    "        movie_month = movie['releaseDate']['month']\n",
    "    except:\n",
    "        movie_month = 0\n",
    "\n",
    "    movie_year_month = f\"{movie_year}-{movie_month}\"\n",
    "\n",
    "    movie_id = movie['id']\n",
    "\n",
    "    return (movie_type, movie_name, movie_year_month, movie_id, genero)"
   ]
  },
  {
   "cell_type": "code",
   "execution_count": 13,
   "metadata": {},
   "outputs": [],
   "source": [
    "def get_all_registers(api_key, api_host, genres_, tipes_, years_range_):\n",
    "    all_registers = []\n",
    "\n",
    "    url = \"https://moviesdatabase.p.rapidapi.com/titles\"\n",
    "\n",
    "    headers = {\n",
    "        \"x-rapidapi-key\": api_key,\n",
    "        \"x-rapidapi-host\": api_host\n",
    "    }\n",
    "\n",
    "    for tipe in tqdm(tipes_):\n",
    "        for genre in genres_:\n",
    "            for year in years_range_:\n",
    "\n",
    "                querystring = {\"genre\":genre,\"titleType\":tipe,\"year\":year,\"sort\":\"year.incr\",\"endYear\":\"2024\",\"limit\":\"50\"}\n",
    "\n",
    "                response = requests.get(url, headers=headers, params=querystring).json()\n",
    "    \n",
    "                results = response['results']\n",
    "    \n",
    "                all_registers.append(list(map(lambda result: get_registers(result, genre), results)))\n",
    "    \n",
    "\n",
    "    return all_registers"
   ]
  },
  {
   "cell_type": "code",
   "execution_count": 14,
   "metadata": {},
   "outputs": [
    {
     "name": "stderr",
     "output_type": "stream",
     "text": [
      "100%|██████████| 2/2 [03:04<00:00, 92.24s/it]\n"
     ]
    }
   ],
   "source": [
    "lista_datos = get_all_registers(api_key, api_host, lista_generos, lista_tipos, lista_anios)"
   ]
  },
  {
   "cell_type": "markdown",
   "metadata": {},
   "source": [
    "Nuestra lista queremos que sea una lisa de tuplas"
   ]
  },
  {
   "cell_type": "code",
   "execution_count": 15,
   "metadata": {},
   "outputs": [],
   "source": [
    "lista_tuplas_datos = [item for row in lista_datos for item in row]"
   ]
  },
  {
   "cell_type": "code",
   "execution_count": 17,
   "metadata": {},
   "outputs": [
    {
     "data": {
      "text/plain": [
       "[('movie', \"S. Lubin's Passion Play\", '1903-1', 'tt11166772', 'Drama'),\n",
       " ('movie', 'The Story of the Kelly Gang', '1906-12', 'tt0000574', 'Drama'),\n",
       " ('movie', 'Robbery Under Arms', '1907-11', 'tt0000615', 'Drama'),\n",
       " ('movie', \"L'enfant prodigue\", '1907-6', 'tt0000591', 'Drama')]"
      ]
     },
     "execution_count": 17,
     "metadata": {},
     "output_type": "execute_result"
    }
   ],
   "source": [
    "lista_tuplas_datos[:4]"
   ]
  },
  {
   "cell_type": "code",
   "execution_count": 16,
   "metadata": {},
   "outputs": [
    {
     "data": {
      "text/plain": [
       "28000"
      ]
     },
     "execution_count": 16,
     "metadata": {},
     "output_type": "execute_result"
    }
   ],
   "source": [
    "len(lista_tuplas_datos)"
   ]
  },
  {
   "cell_type": "code",
   "execution_count": 18,
   "metadata": {},
   "outputs": [
    {
     "data": {
      "text/html": [
       "<div>\n",
       "<style scoped>\n",
       "    .dataframe tbody tr th:only-of-type {\n",
       "        vertical-align: middle;\n",
       "    }\n",
       "\n",
       "    .dataframe tbody tr th {\n",
       "        vertical-align: top;\n",
       "    }\n",
       "\n",
       "    .dataframe thead th {\n",
       "        text-align: right;\n",
       "    }\n",
       "</style>\n",
       "<table border=\"1\" class=\"dataframe\">\n",
       "  <thead>\n",
       "    <tr style=\"text-align: right;\">\n",
       "      <th></th>\n",
       "      <th>tipo</th>\n",
       "      <th>titulo</th>\n",
       "      <th>fecha</th>\n",
       "      <th>id</th>\n",
       "      <th>genero</th>\n",
       "    </tr>\n",
       "  </thead>\n",
       "  <tbody>\n",
       "    <tr>\n",
       "      <th>0</th>\n",
       "      <td>movie</td>\n",
       "      <td>S. Lubin's Passion Play</td>\n",
       "      <td>1903-1</td>\n",
       "      <td>tt11166772</td>\n",
       "      <td>Drama</td>\n",
       "    </tr>\n",
       "    <tr>\n",
       "      <th>1</th>\n",
       "      <td>movie</td>\n",
       "      <td>The Story of the Kelly Gang</td>\n",
       "      <td>1906-12</td>\n",
       "      <td>tt0000574</td>\n",
       "      <td>Drama</td>\n",
       "    </tr>\n",
       "    <tr>\n",
       "      <th>2</th>\n",
       "      <td>movie</td>\n",
       "      <td>Robbery Under Arms</td>\n",
       "      <td>1907-11</td>\n",
       "      <td>tt0000615</td>\n",
       "      <td>Drama</td>\n",
       "    </tr>\n",
       "    <tr>\n",
       "      <th>3</th>\n",
       "      <td>movie</td>\n",
       "      <td>L'enfant prodigue</td>\n",
       "      <td>1907-6</td>\n",
       "      <td>tt0000591</td>\n",
       "      <td>Drama</td>\n",
       "    </tr>\n",
       "    <tr>\n",
       "      <th>4</th>\n",
       "      <td>movie</td>\n",
       "      <td>Violante</td>\n",
       "      <td>0-0</td>\n",
       "      <td>tt0176294</td>\n",
       "      <td>Drama</td>\n",
       "    </tr>\n",
       "  </tbody>\n",
       "</table>\n",
       "</div>"
      ],
      "text/plain": [
       "    tipo                       titulo    fecha          id genero\n",
       "0  movie      S. Lubin's Passion Play   1903-1  tt11166772  Drama\n",
       "1  movie  The Story of the Kelly Gang  1906-12   tt0000574  Drama\n",
       "2  movie           Robbery Under Arms  1907-11   tt0000615  Drama\n",
       "3  movie            L'enfant prodigue   1907-6   tt0000591  Drama\n",
       "4  movie                     Violante      0-0   tt0176294  Drama"
      ]
     },
     "execution_count": 18,
     "metadata": {},
     "output_type": "execute_result"
    }
   ],
   "source": [
    "df_datos = pd.DataFrame(lista_tuplas_datos, columns=[\"tipo\", \"titulo\", \"fecha\", \"id\", \"genero\"])\n",
    "df_datos.head()"
   ]
  },
  {
   "cell_type": "code",
   "execution_count": 20,
   "metadata": {},
   "outputs": [],
   "source": [
    "df_datos.to_csv(\"datos_api\", index=False)"
   ]
  }
 ],
 "metadata": {
  "kernelspec": {
   "display_name": "Python 3",
   "language": "python",
   "name": "python3"
  },
  "language_info": {
   "codemirror_mode": {
    "name": "ipython",
    "version": 3
   },
   "file_extension": ".py",
   "mimetype": "text/x-python",
   "name": "python",
   "nbconvert_exporter": "python",
   "pygments_lexer": "ipython3",
   "version": "3.12.6"
  }
 },
 "nbformat": 4,
 "nbformat_minor": 2
}
